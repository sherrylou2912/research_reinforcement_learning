{
 "cells": [
  {
   "cell_type": "code",
   "execution_count": 1,
   "metadata": {},
   "outputs": [],
   "source": [
    "import copy\n",
    "\n",
    "class CliffWalkingEnv:\n",
    "    def __init__(self, ncol = 12, nrow = 4):\n",
    "        self.ncol = ncol\n",
    "        self.nrow = nrow \n",
    "        self.P = self.createP()\n",
    "\n",
    "    def createP(self):\n",
    "        P = [[[] for j in range(4)] for i in range(self.nrow * self.ncol)]\n",
    "        # four actions: change[0] for up, change[1] for down, change[2] for left, change[3] for right\n",
    "        change = [[0,-1],[0,1],[-1,0],[0,1]]\n",
    "        for i in range(self.nrow):\n",
    "            for j in range(self.ncol):\n",
    "                for a in range(4):\n",
    "                    # if position is at cliff or target, no interation anymore\n",
    "                    if i == self.nrow -1 and j > 0:\n",
    "                        P[i * self.ncol + j][a] = [(1,i*self.ncol+j,0,True)]\n",
    "                        continue\n",
    "\n",
    "                    next_x = min(self.ncol - 1, max(0, j + change[a][0]))\n",
    "                    next_y = min(self.nrow - 1, max(0, i + change[a][1]))\n",
    "                    next_state = next_y * self.ncol + next_x\n",
    "                    reward = -1 \n",
    "                    done = False\n",
    "\n",
    "                    #if next position is at cliff or target\n",
    "                    if next_y == self.nrow - 1 and next_x > 0:\n",
    "                        done = True\n",
    "                        if next_x != self.ncol - 1: #next position at cliff \n",
    "                            reward = -100\n",
    "                    P[i * self.ncol + j][a] = [(1,next_state,reward, done)]\n",
    "\n",
    "        return P \n"
   ]
  },
  {
   "attachments": {},
   "cell_type": "markdown",
   "metadata": {},
   "source": [
    "# Policy Iteration"
   ]
  },
  {
   "cell_type": "code",
   "execution_count": 2,
   "metadata": {},
   "outputs": [],
   "source": [
    "class PolicyIteration:\n",
    "    def __init__(self,env,theta,gamma):\n",
    "        self.env = env\n",
    "        self.v = [0] * self.env.ncol * self.env.nrow #intialise value as 0 \n",
    "        self.pi = [[0.25,0.25,0.25,0.25] for i in range(self.env.ncol * self.env.nrow)]\n",
    "\n",
    "        self.theta = theta \n",
    "        self.gamma = gamma\n",
    "\n",
    "    def policy_evaluation(self):\n",
    "        cnt = 1\n",
    "        while 1:\n",
    "            max_diff = 0\n",
    "            new_v = [0] * self.env.ncol * self.env.nrow\n",
    "            for s in range(self.env.ncol * self.env.nrow):\n",
    "                qsa_list = []\n",
    "                for a in range(4):\n",
    "                    qsa = 0 \n",
    "                    for res in self.env.P[s][a]:\n",
    "                        p,next_state,r,done = res\n",
    "                        qsa += p * (r + self.gamma * self.v[next_state] * (1 - done))\n",
    "                    qsa_list.append(self.pi[s][a] * qsa)\n",
    "                new_v[s] = sum(qsa_list)\n",
    "                max_diff = max(max_diff, abs(new_v[s] - self.v[s]))\n",
    "            self.v = new_v\n",
    "            if max_diff < self.theta: break\n",
    "            cnt += 1\n",
    "        print(\"Policy evaluation finished in %d rounds\" %cnt)\n",
    "\n",
    "    def policy_improvement(self):\n",
    "        for s in range(self.env.nrow * self.env.ncol):\n",
    "            qsa_list = []\n",
    "            for a in range(4):\n",
    "                qsa = 0\n",
    "                for res in self.env.P[s][a]:\n",
    "                    p, next_state, r, done = res\n",
    "                    qsa += p * (r + self.gamma * self.v[next_state] * (1 - done))\n",
    "                qsa_list.append(qsa)\n",
    "            maxq = max(qsa_list)\n",
    "            cntq = qsa_list.count(maxq)\n",
    "            self.pi[s] = [1 / cntq if q == maxq else 0 for q in qsa_list]\n",
    "        print('policy improvement finish')\n",
    "        return self.pi\n",
    "\n",
    "    def run(self):\n",
    "        while 1:\n",
    "            self.policy_evaluation()\n",
    "            old_pi = copy.deepcopy(self.pi)\n",
    "            new_pi = self.policy_improvement()\n",
    "            if old_pi == new_pi:\n",
    "                break\n",
    "\n",
    "        "
   ]
  },
  {
   "cell_type": "code",
   "execution_count": 3,
   "metadata": {},
   "outputs": [
    {
     "name": "stdout",
     "output_type": "stream",
     "text": [
      "Policy evaluation finished in 67 rounds\n",
      "policy improvement finish\n",
      "Policy evaluation finished in 13 rounds\n",
      "policy improvement finish\n",
      "Policy evaluation finished in 1 rounds\n",
      "policy improvement finish\n",
      "state value: \n",
      "-9.998  -9.998  -9.998  -9.998  -9.998  -9.998  -9.998  -9.998  -9.998  -9.998  -9.998  -2.710  \n",
      "-9.998  -9.998  -9.998  -9.998  -9.998  -9.998  -9.998  -9.998  -9.998  -9.998  -9.998  -1.900  \n",
      "-9.998  -9.998  -9.998  -9.998  -9.998  -9.998  -9.998  -9.998  -9.998  -9.998  -9.998  -1.000  \n",
      "-9.998   0.000   0.000   0.000   0.000   0.000   0.000   0.000   0.000   0.000   0.000   0.000  \n",
      "policy: \n",
      "^v<> ^v<> ^v<> ^v<> ^v<> ^v<> ^v<> ^v<> ^v<> ^v<> ^v<> ovo> \n",
      "^v<> ^v<> ^v<> ^v<> ^v<> ^v<> ^v<> ^v<> ^v<> ^v<> ^v<> ovo> \n",
      "^v<> ^o<o ^o<o ^o<o ^o<o ^o<o ^o<o ^o<o ^o<o ^o<o ^o<o ovo> \n",
      "^v<> **** **** **** **** **** **** **** **** **** **** EEEE \n"
     ]
    }
   ],
   "source": [
    "def print_agent(agent, action_meaning, disaster=[], end = []):\n",
    "    print('state value: ')\n",
    "    for i in range(agent.env.nrow):\n",
    "        for j in range(agent.env.ncol):\n",
    "            print('%6.6s' % ('%.3f' %agent.v[i * agent.env.ncol +j]), end = '  ')\n",
    "        print()\n",
    "\n",
    "    print(\"policy: \")\n",
    "    for i in range(agent.env.nrow):\n",
    "        for j in range(agent.env.ncol):\n",
    "            if (i * agent.env.ncol + j) in disaster:\n",
    "                print('****', end=' ')\n",
    "            elif (i * agent.env.ncol + j) in end:\n",
    "                print('EEEE', end=' ')\n",
    "            else:\n",
    "                a = agent.pi[i * agent.env.ncol + j]\n",
    "                pi_str = ''\n",
    "                for k in range(len(action_meaning)):\n",
    "                    pi_str += action_meaning[k] if a[k] > 0 else 'o'\n",
    "                print(pi_str, end=' ')\n",
    "        print()\n",
    "\n",
    "\n",
    "env = CliffWalkingEnv()\n",
    "action_meaning = ['^', 'v', '<', '>']\n",
    "theta = 0.001\n",
    "gamma = 0.9\n",
    "agent = PolicyIteration(env, theta, gamma)\n",
    "agent.run()\n",
    "print_agent(agent, action_meaning, list(range(37, 47)), [47])"
   ]
  },
  {
   "attachments": {},
   "cell_type": "markdown",
   "metadata": {},
   "source": [
    "# Value Iteration"
   ]
  },
  {
   "cell_type": "code",
   "execution_count": 14,
   "metadata": {},
   "outputs": [
    {
     "name": "stdout",
     "output_type": "stream",
     "text": [
      "Value Iteration Finished in 66 rounds\n",
      "state value: \n",
      "-9.991  -9.991  -9.991  -9.991  -9.991  -9.991  -9.991  -9.991  -9.991  -9.991  -9.991  -2.710  \n",
      "-9.991  -9.991  -9.991  -9.991  -9.991  -9.991  -9.991  -9.991  -9.991  -9.991  -9.991  -1.900  \n",
      "-9.991  -9.991  -9.991  -9.991  -9.991  -9.991  -9.991  -9.991  -9.991  -9.991  -9.991  -1.000  \n",
      "-9.991   0.000   0.000   0.000   0.000   0.000   0.000   0.000   0.000   0.000   0.000   0.000  \n",
      "policy: \n",
      "^v<> ^v<> ^v<> ^v<> ^v<> ^v<> ^v<> ^v<> ^v<> ^v<> ^v<> ovo> \n",
      "^v<> ^v<> ^v<> ^v<> ^v<> ^v<> ^v<> ^v<> ^v<> ^v<> ^v<> ovo> \n",
      "^v<> ^o<o ^o<o ^o<o ^o<o ^o<o ^o<o ^o<o ^o<o ^o<o ^o<o ovo> \n",
      "^v<> **** **** **** **** **** **** **** **** **** **** EEEE \n"
     ]
    }
   ],
   "source": [
    "class ValueIteration:\n",
    "    def __init__(self,env,theta,gamma):\n",
    "        self.env = env\n",
    "        self.theta = theta\n",
    "        self.v = [0] * (self.env.ncol * self.env.nrow)\n",
    "        self.gamma = gamma\n",
    "        self.pi = [None for i in range(self.env.ncol * self.env.nrow)]\n",
    "\n",
    "    def value_iteration(self):\n",
    "        cnt = 0\n",
    "        while 1:\n",
    "            max_diff = 0\n",
    "            new_v = [0] * (self.env.ncol * self.env.nrow)\n",
    "            for s in range(self.env.ncol * self.env.nrow):\n",
    "                qsa_list = []\n",
    "                for a in range(4):\n",
    "                    qsa = 0\n",
    "                    for res in self.env.P[s][a]:\n",
    "                        p,next_state,r,done = res\n",
    "                        qsa += p * (r + self.gamma * self.v[next_state] * (1 - done))\n",
    "                    qsa_list.append(qsa)\n",
    "                new_v[s] = max(qsa_list)\n",
    "                max_diff = max(max_diff, abs(new_v[s] - self.v[s]))\n",
    "            self.v = new_v\n",
    "            if max_diff < self.theta: break\n",
    "            cnt += 1\n",
    "        print(\"Value Iteration Finished in %d rounds\" %cnt)\n",
    "        self.get_policy()\n",
    "\n",
    "    def get_policy(self):\n",
    "        for s in range(self.env.nrow * self.env.ncol):\n",
    "            qsa_list = []\n",
    "            for a in range(4):\n",
    "                qsa = 0\n",
    "                for res in self.env.P[s][a]:\n",
    "                    p, next_state,r,done = res\n",
    "                    qsa += p * (r + self.gamma * self.v[next_state] * (1 - done))\n",
    "                qsa_list.append(qsa)\n",
    "            maxq = max(qsa_list)\n",
    "            cntq = qsa_list.count(maxq)\n",
    "            self.pi[s] = [1/cntq if q==maxq else 0 for q in qsa_list]\n",
    "\n",
    "env = CliffWalkingEnv()\n",
    "action_meaning = ['^', 'v', '<', '>']\n",
    "theta = 0.001\n",
    "gamma = 0.9\n",
    "agent = ValueInteration(env,theta,gamma)\n",
    "agent.value_iteration()\n",
    "print_agent(agent,action_meaning,list(range(37,47)),[47])"
   ]
  },
  {
   "cell_type": "code",
   "execution_count": 16,
   "metadata": {},
   "outputs": [
    {
     "name": "stdout",
     "output_type": "stream",
     "text": [
      "holes are located at:  {11, 12, 5, 7}\n",
      "targets are located at:  {15}\n",
      "[(0.3333333333333333, 10, 0.0, False), (0.3333333333333333, 13, 0.0, False), (0.3333333333333333, 14, 0.0, False)]\n",
      "[(0.3333333333333333, 13, 0.0, False), (0.3333333333333333, 14, 0.0, False), (0.3333333333333333, 15, 1.0, True)]\n",
      "[(0.3333333333333333, 14, 0.0, False), (0.3333333333333333, 15, 1.0, True), (0.3333333333333333, 10, 0.0, False)]\n",
      "[(0.3333333333333333, 15, 1.0, True), (0.3333333333333333, 10, 0.0, False), (0.3333333333333333, 13, 0.0, False)]\n"
     ]
    }
   ],
   "source": [
    "import gym\n",
    "import warnings\n",
    "warnings.filterwarnings(\"ignore\")\n",
    "env = gym.make(\"FrozenLake-v1\")\n",
    "env = env.unwrapped\n",
    "env.render()\n",
    "\n",
    "holes = set()\n",
    "ends = set()\n",
    "\n",
    "for s in env.P:\n",
    "    for a in env.P[s]:\n",
    "        for s_a in env.P[s][a]:\n",
    "            if s_a[2] == 1.0:\n",
    "                ends.add(s_a[1])\n",
    "            if s_a[3] == True:\n",
    "                holes.add(s_a[1])\n",
    "holes = holes - ends\n",
    "print('holes are located at: ', holes)\n",
    "print('targets are located at: ', ends) \n",
    "\n",
    "for a in env.P[14]:\n",
    "    print (env.P[14][a])"
   ]
  },
  {
   "cell_type": "code",
   "execution_count": 17,
   "metadata": {},
   "outputs": [
    {
     "name": "stdout",
     "output_type": "stream",
     "text": [
      "Policy evaluation finished in 25 rounds\n",
      "policy improvement finish\n",
      "Policy evaluation finished in 58 rounds\n",
      "policy improvement finish\n",
      "state value: \n",
      " 0.069   0.061   0.074   0.056  \n",
      " 0.092   0.000   0.112   0.000  \n",
      " 0.145   0.247   0.300   0.000  \n",
      " 0.000   0.380   0.639   0.000  \n",
      "policy: \n",
      "<ooo ooo^ <ooo ooo^ \n",
      "<ooo **** <o>o **** \n",
      "ooo^ ovoo <ooo **** \n",
      "**** oo>o ovoo EEEE \n"
     ]
    }
   ],
   "source": [
    "action_meaning = ['<', 'v', '>', '^']\n",
    "theta = 1e-5\n",
    "gamma = 0.9\n",
    "agent = PolicyIteration(env, theta, gamma)\n",
    "agent.run()\n",
    "print_agent(agent, action_meaning, [5, 7, 11, 12], [15])"
   ]
  },
  {
   "cell_type": "code",
   "execution_count": 18,
   "metadata": {},
   "outputs": [
    {
     "name": "stdout",
     "output_type": "stream",
     "text": [
      "Value Iteration Finished in 60 rounds\n",
      "state value: \n",
      " 0.069   0.061   0.074   0.056  \n",
      " 0.092   0.000   0.112   0.000  \n",
      " 0.145   0.247   0.300   0.000  \n",
      " 0.000   0.380   0.639   0.000  \n",
      "policy: \n",
      "<ooo ooo^ <ooo ooo^ \n",
      "<ooo **** <o>o **** \n",
      "ooo^ ovoo <ooo **** \n",
      "**** oo>o ovoo EEEE \n"
     ]
    }
   ],
   "source": [
    "action_meaning = ['<', 'v', '>', '^']\n",
    "theta = 1e-5\n",
    "gamma = 0.9\n",
    "agent = ValueIteration(env, theta, gamma)\n",
    "agent.value_iteration()\n",
    "print_agent(agent, action_meaning, [5, 7, 11, 12], [15])"
   ]
  }
 ],
 "metadata": {
  "kernelspec": {
   "display_name": "rl",
   "language": "python",
   "name": "python3"
  },
  "language_info": {
   "codemirror_mode": {
    "name": "ipython",
    "version": 3
   },
   "file_extension": ".py",
   "mimetype": "text/x-python",
   "name": "python",
   "nbconvert_exporter": "python",
   "pygments_lexer": "ipython3",
   "version": "3.13.2"
  },
  "orig_nbformat": 4,
  "vscode": {
   "interpreter": {
    "hash": "1ae41100f6d314d5b1c73ee87cbd1486b39c12788d7652902c395b0e193dba05"
   }
  }
 },
 "nbformat": 4,
 "nbformat_minor": 2
}
